{
 "cells": [
  {
   "cell_type": "markdown",
   "metadata": {},
   "source": [
    "# The Geometric and Negative Binomial Distributions - Lab\n",
    "\n",
    "## Introduction\n",
    "\n",
    "In this lab, you'll practice your knowledge on the geometric and negative binomial distributions!\n",
    "\n",
    "## Objectives\n",
    "You will be able to:\n",
    "- Understand and explain the Negative Binomial Distribution and its uses\n",
    "- Understand and explain Geometric Distributions and their uses\n",
    "\n",
    "## Quick Recap"
   ]
  },
  {
   "cell_type": "markdown",
   "metadata": {},
   "source": [
    "Recall that the binomial distribution describes the probability of a success or a failure outcome in an experiment that is repeated multiple times.\n",
    "\n",
    "In fact, a binomial distribution describes a repeated bernoulli experiment. A bernoulli experiment can be seen as one trial where there is a known success rate $p$. Examples:\n",
    "- Rolling a dice once where success is defined as throwing a 5 or higher, the probability of success is 1/3.\n",
    "- Shooting at a basketball rink where the success probability is 70%.\n",
    "- etc."
   ]
  },
  {
   "cell_type": "markdown",
   "metadata": {},
   "source": [
    "The binomial distribution then has 2 parameters: $n$ and $p$, where $n$ is the number of independent experiments."
   ]
  },
  {
   "cell_type": "markdown",
   "metadata": {},
   "source": [
    "The binomial and hypergeometric distribution describe the number of successes in a fixed number, independent repetitions of Bernoulli experiments. The negative binomial and geometric\n",
    "distribution describe the number of independent repetitions to a *fixed* number of *successes*. The geometric distribution is a special case of the negative-binomial distribution.\n",
    "\n",
    "To be more specific, the geometric distribution is the probability for which trial the first successful Bernoulli experiment will occur on. The more general version of this is the negative binomial distribution which is the probability for which trial the nth success will occur on."
   ]
  },
  {
   "cell_type": "markdown",
   "metadata": {},
   "source": [
    "## 1. Let's take a look at the classic coin flipping case.\n",
    "\n",
    "**A)** What's the probability that the first success occurs on the 1st trial? (Yes its that intuitive.)"
   ]
  },
  {
   "cell_type": "markdown",
   "metadata": {},
   "source": [
    "0.5"
   ]
  },
  {
   "cell_type": "markdown",
   "metadata": {},
   "source": [
    "**B)** What's the probability that the first success occurs on the 2nd trial?  \n",
    "(Hint: Think of all the possible scenarios: Either the success occured on the first trial, the success occurred on the second trial, or there still was no success. These three scenarios should encompass all possible scenarios and thus have a total probability of 1. Calculate the probability that the first trial was successful. Calculate the probability that neither the first nor second trial was successful. It should now be straightforward to calculate the final scenario: that the second trial was the original success.)  "
   ]
  },
  {
   "cell_type": "markdown",
   "metadata": {},
   "source": [
    "* P(t1) = 0.5\n",
    "* P(t2) = 0.5 * 0.5 = 0.25"
   ]
  },
  {
   "cell_type": "markdown",
   "metadata": {},
   "source": [
    "**C)** What's the probability that the first success occurs on the 3rd trial? The 5th?"
   ]
  },
  {
   "cell_type": "markdown",
   "metadata": {},
   "source": [
    "* p(t3) = 0.5 * 0.5 * 0.5 = 0.125\n",
    "* p(t5) = 0.5 ** 5 = 0.03125"
   ]
  },
  {
   "cell_type": "markdown",
   "metadata": {},
   "source": [
    "## 2. Geometric Function\n",
    "Now write a probability distribution function for a random variable y. The function should take in the probability, p of the success of an individual Bernoulli experiment. (In our previous coin flipping example, p=0.5.)"
   ]
  },
  {
   "cell_type": "code",
   "execution_count": 2,
   "metadata": {},
   "outputs": [],
   "source": [
    "def geometric_dist(y,p):\n",
    "    \"\"\"y is a discrete random variable. It should be an integer that is greater then zero.\n",
    "    p is the probability of a success for the Bernoulli experiment to be conducted.\n",
    "    This function should return the probability that the first successful Bernoulli experiment will occur on the \n",
    "    yth trial.\"\"\"\n",
    "    \n",
    "    #f(y) = ((1-p)^(y-1))*p\n",
    "    failing_first_try = 1-p\n",
    "    failures_before_success = y-1\n",
    "    \n",
    "    #The probability that the first successful bernoulli experiment occurs on the yth trial.\n",
    "    prob = (failing_first_try ** failures_before_success) * p\n",
    "    \n",
    "    return prob"
   ]
  },
  {
   "cell_type": "markdown",
   "metadata": {},
   "source": [
    "## 3. Product Failures\n",
    "Assume that the probability of a product working is 95%. Before shipping the products, the manufacturer is checking each product for defects. What is the probability that the 10th product checked is the first defective one found?"
   ]
  },
  {
   "cell_type": "code",
   "execution_count": 12,
   "metadata": {},
   "outputs": [
    {
     "name": "stdout",
     "output_type": "stream",
     "text": [
      "1.8554687500000146e-12\n"
     ]
    }
   ],
   "source": [
    "#Code and answer here\n",
    "\n",
    "#geometric \n",
    "# y=10, p=0.95\n",
    "# ((1-0.95)^9) * 0.95 = 1.855e^-12\n",
    "\n",
    "prob = geometric_dist(10,0.95)\n",
    "print(prob)"
   ]
  },
  {
   "cell_type": "markdown",
   "metadata": {},
   "source": [
    "If the probability of a product working is 95%; the probability that the 10th product checked is the first defective one found is 0.00000000000185%"
   ]
  },
  {
   "cell_type": "markdown",
   "metadata": {},
   "source": [
    "## 4. Product Failures take 2\n",
    "In many cases, a manufacturer might only test a sample of the products for defaults. Assuming 95% of the products do indeed work, what is the probability that in testing 20 units, that none will be defective?"
   ]
  },
  {
   "cell_type": "code",
   "execution_count": 15,
   "metadata": {},
   "outputs": [
    {
     "name": "stdout",
     "output_type": "stream",
     "text": [
      "0.9999990463256836\n"
     ]
    }
   ],
   "source": [
    "#Code and answer here\n",
    "\n",
    "#defective 50% (0.5), no defective 50% (0.5) \n",
    "\n",
    "sum_failures = 0\n",
    "\n",
    "for i in range (1,21):\n",
    "    first = geometric_dist(i, 0.5)   #test first product with a 50% probability of failure (0.5)\n",
    "    sum_failures += first\n",
    "\n",
    "prob = sum_failures\n",
    "print(prob)"
   ]
  },
  {
   "cell_type": "markdown",
   "metadata": {},
   "source": [
    "Assuming 95% of the products work, the probability that in testing 20 units none will be defective is 99.99%"
   ]
  },
  {
   "cell_type": "markdown",
   "metadata": {},
   "source": [
    "## 5. Consumer Profiling\n",
    "A previous sample showed that 70% of U.S. shoppers prefer to buy groceries in store as compared to online.  \n",
    "Calculate the probability that the 6th person interviewed is the first to prefer to buy groceries online."
   ]
  },
  {
   "cell_type": "code",
   "execution_count": 16,
   "metadata": {},
   "outputs": [
    {
     "name": "stdout",
     "output_type": "stream",
     "text": [
      "0.0017010000000000011\n"
     ]
    }
   ],
   "source": [
    "#Code and answer here\n",
    "#geometric: p=70%=0.7, y=6\n",
    "\n",
    "prob = geometric_dist(6, 0.7)\n",
    "\n",
    "print(prob)"
   ]
  },
  {
   "cell_type": "markdown",
   "metadata": {},
   "source": [
    "The probability that the 6th person interviewed is the first to prefer to buy groceries online is 0.17%"
   ]
  },
  {
   "cell_type": "markdown",
   "metadata": {},
   "source": [
    "## 6. Consumer Profiling 2\n",
    "What is the probability that at least 6 people have to be interviewed before finding someone who prefers to buy groceries online? (Assuming the statistic is true.)"
   ]
  },
  {
   "cell_type": "code",
   "execution_count": 25,
   "metadata": {},
   "outputs": [
    {
     "name": "stdout",
     "output_type": "stream",
     "text": [
      "0.9992709999999999\n"
     ]
    }
   ],
   "source": [
    "#Code and answer here\n",
    "# 70% probability a person buys groceries online, r=6\n",
    "\n",
    "sum_failures = 0\n",
    "\n",
    "for i in range (1,7):\n",
    "    first = geometric_dist(i, 0.7)   #test first product with a 50% probability of failure (0.5)\n",
    "    sum_failures += first\n",
    "\n",
    "prob = sum_failures\n",
    "print(prob)\n"
   ]
  },
  {
   "cell_type": "markdown",
   "metadata": {},
   "source": [
    "## Summary\n",
    "\n",
    "Awesome, you've now learned about many use cases for the geometric and negative binomial distribution!"
   ]
  }
 ],
 "metadata": {
  "kernelspec": {
   "display_name": "learn-env",
   "language": "python",
   "name": "learn-env"
  },
  "language_info": {
   "codemirror_mode": {
    "name": "ipython",
    "version": 3
   },
   "file_extension": ".py",
   "mimetype": "text/x-python",
   "name": "python",
   "nbconvert_exporter": "python",
   "pygments_lexer": "ipython3",
   "version": "3.7.0"
  }
 },
 "nbformat": 4,
 "nbformat_minor": 2
}
